{
 "cells": [
  {
   "cell_type": "markdown",
   "metadata": {},
   "source": [
    "# Milestone 2\n",
    "\n",
    "For whichever project I am doing, I am going to be using a text-based dataset of my creative writing. I am loading it in below. "
   ]
  },
  {
   "cell_type": "code",
   "execution_count": 3,
   "metadata": {},
   "outputs": [],
   "source": [
    "poems = open(\"./fullandmisc.txt\", encoding='utf8').read()"
   ]
  },
  {
   "cell_type": "markdown",
   "metadata": {},
   "source": [
    "## About the data\n",
    "\n",
    "The data is available to me as I continue my creative practice and version control is very important. The txt file I have loaded into this folder is my body of work as of last Spring. I think I will attempt to conduct some sort of sentiment analysis model. My thesis project is a performance borne from the experience of self-analyzing and ChatGPT-ing the analysis of the outputs, but I would like to play more with a model doing this. I will test the data on the Markov lines that I have previously generated to see what sentiment comes up. These are the lines I am interested in testing:\n",
    "- down at the base of a dizzy world\n",
    "- the blink of a mountain\n",
    "- the breadth of blood\n",
    "- the crevasses of my present moment\n",
    "\n",
    "The txt file is roughly 2300 lines of code, with uneven spaces. I will be adding more into the txt file as I have written more since the last time I created the dataset. I think it could be interesting to also separate the dataset to have more information about each entry. If I have general years it was written or purposes it was written for, or perhaps the type of writing. It could be interesting to see if there are changes to the sentiment analysis based on how big the corpus is.\n",
    "\n",
    "The features of the dataset could be phrases, words, type (poem, prose, etc), year written, what publication it was part of, etc. \n",
    "\n",
    "This means I have to do a lot more cleaning to the data, which I am currently in progress in doing. The original txt file will be a good before and after!"
   ]
  }
 ],
 "metadata": {
  "kernelspec": {
   "display_name": "Python 3",
   "language": "python",
   "name": "python3"
  },
  "language_info": {
   "codemirror_mode": {
    "name": "ipython",
    "version": 3
   },
   "file_extension": ".py",
   "mimetype": "text/x-python",
   "name": "python",
   "nbconvert_exporter": "python",
   "pygments_lexer": "ipython3",
   "version": "3.12.1"
  }
 },
 "nbformat": 4,
 "nbformat_minor": 2
}
